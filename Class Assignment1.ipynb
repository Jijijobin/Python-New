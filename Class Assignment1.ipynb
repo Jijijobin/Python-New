{
 "cells": [
  {
   "cell_type": "code",
   "execution_count": 21,
   "id": "7b473442-a9a4-4f08-ad35-c80fa13a3319",
   "metadata": {},
   "outputs": [
    {
     "name": "stdout",
     "output_type": "stream",
     "text": [
      "Sub-field in AI are:\n",
      "Machine Learning\n",
      "Neutral Networks\n",
      "Vision\n",
      "Robotics\n",
      "Speech Processing\n",
      "Natural Language Processing\n"
     ]
    }
   ],
   "source": [
    "Name=[\"Sub-field in AI are:\",\"Machine Learning\",\"Neutral Networks\",\"Vision\",\"Robotics\",\"Speech Processing\",\"Natural Language Processing\"]\n",
    "class Variousfield():\n",
    "    def subfields():\n",
    "       for data in Name:\n",
    "          print(data)\n",
    "Variousfield.subfields()"
   ]
  },
  {
   "cell_type": "code",
   "execution_count": 23,
   "id": "3581ca2e-3d56-4036-a5b5-546273e36c66",
   "metadata": {},
   "outputs": [
    {
     "name": "stdin",
     "output_type": "stream",
     "text": [
      "Enter a number: 52452\n"
     ]
    },
    {
     "name": "stdout",
     "output_type": "stream",
     "text": [
      "52452 is even number\n"
     ]
    },
    {
     "data": {
      "text/plain": [
       "'Even number'"
      ]
     },
     "execution_count": 23,
     "metadata": {},
     "output_type": "execute_result"
    }
   ],
   "source": [
    "num=int(input(\"Enter a number:\"))\n",
    "class identification():   \n",
    "    def oddeven():\n",
    "        if(num%2==0):\n",
    "            print(num,\"is even number\")\n",
    "            out=\"Even number\"\n",
    "        else:\n",
    "            print(num,\"is odd number\")\n",
    "            out=\"Odd number\"\n",
    "        return out\n",
    "identification.oddeven()"
   ]
  },
  {
   "cell_type": "code",
   "execution_count": 33,
   "id": "c37a05cd-11ae-4990-8fd4-b1ceb599b595",
   "metadata": {},
   "outputs": [
    {
     "name": "stdin",
     "output_type": "stream",
     "text": [
      "Your Gender: Male\n",
      "Your Age: 20\n"
     ]
    },
    {
     "name": "stdout",
     "output_type": "stream",
     "text": [
      "Not Eligible\n"
     ]
    },
    {
     "data": {
      "text/plain": [
       "'Not Elligible'"
      ]
     },
     "execution_count": 33,
     "metadata": {},
     "output_type": "execute_result"
    }
   ],
   "source": [
    "gender=input(\"Your Gender:\")\n",
    "age=int(input(\"Your Age:\"))\n",
    "class verification():\n",
    "    def ageeligible():\n",
    "        if(age<=20):\n",
    "            print(\"Not Eligible\")\n",
    "            out=\"Not Elligible\"\n",
    "        else:\n",
    "            print(\"Eligible\")\n",
    "            out=\"Eligible\"\n",
    "        return out\n",
    "verification.ageeligible()   "
   ]
  },
  {
   "cell_type": "code",
   "execution_count": null,
   "id": "e209622d-39e6-4cfc-9007-f946fc9124c9",
   "metadata": {},
   "outputs": [],
   "source": []
  }
 ],
 "metadata": {
  "kernelspec": {
   "display_name": "Python 3 (ipykernel)",
   "language": "python",
   "name": "python3"
  },
  "language_info": {
   "codemirror_mode": {
    "name": "ipython",
    "version": 3
   },
   "file_extension": ".py",
   "mimetype": "text/x-python",
   "name": "python",
   "nbconvert_exporter": "python",
   "pygments_lexer": "ipython3",
   "version": "3.12.7"
  }
 },
 "nbformat": 4,
 "nbformat_minor": 5
}
