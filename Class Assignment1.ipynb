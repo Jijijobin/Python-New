{
 "cells": [
  {
   "cell_type": "code",
   "execution_count": 21,
   "id": "7b473442-a9a4-4f08-ad35-c80fa13a3319",
   "metadata": {},
   "outputs": [
    {
     "name": "stdout",
     "output_type": "stream",
     "text": [
      "Sub-field in AI are:\n",
      "Machine Learning\n",
      "Neutral Networks\n",
      "Vision\n",
      "Robotics\n",
      "Speech Processing\n",
      "Natural Language Processing\n"
     ]
    }
   ],
   "source": [
    "Name=[\"Sub-field in AI are:\",\"Machine Learning\",\"Neutral Networks\",\"Vision\",\"Robotics\",\"Speech Processing\",\"Natural Language Processing\"]\n",
    "class Variousfield():\n",
    "    def subfields():\n",
    "       for data in Name:\n",
    "          print(data)\n",
    "Variousfield.subfields()"
   ]
  },
  {
   "cell_type": "code",
   "execution_count": 23,
   "id": "3581ca2e-3d56-4036-a5b5-546273e36c66",
   "metadata": {},
   "outputs": [
    {
     "name": "stdin",
     "output_type": "stream",
     "text": [
      "Enter a number: 52452\n"
     ]
    },
    {
     "name": "stdout",
     "output_type": "stream",
     "text": [
      "52452 is even number\n"
     ]
    },
    {
     "data": {
      "text/plain": [
       "'Even number'"
      ]
     },
     "execution_count": 23,
     "metadata": {},
     "output_type": "execute_result"
    }
   ],
   "source": [
    "num=int(input(\"Enter a number:\"))\n",
    "class identification():   \n",
    "    def oddeven():\n",
    "        if(num%2==0):\n",
    "            print(num,\"is even number\")\n",
    "            out=\"Even number\"\n",
    "        else:\n",
    "            print(num,\"is odd number\")\n",
    "            out=\"Odd number\"\n",
    "        return out\n",
    "identification.oddeven()"
   ]
  },
  {
   "cell_type": "code",
   "execution_count": 33,
   "id": "c37a05cd-11ae-4990-8fd4-b1ceb599b595",
   "metadata": {},
   "outputs": [
    {
     "name": "stdin",
     "output_type": "stream",
     "text": [
      "Your Gender: Male\n",
      "Your Age: 20\n"
     ]
    },
    {
     "name": "stdout",
     "output_type": "stream",
     "text": [
      "Not Eligible\n"
     ]
    },
    {
     "data": {
      "text/plain": [
       "'Not Elligible'"
      ]
     },
     "execution_count": 33,
     "metadata": {},
     "output_type": "execute_result"
    }
   ],
   "source": [
    "gender=input(\"Your Gender:\")\n",
    "age=int(input(\"Your Age:\"))\n",
    "class verification():\n",
    "    def ageeligible():\n",
    "        if(age<=20):\n",
    "            print(\"Not Eligible\")\n",
    "            out=\"Not Elligible\"\n",
    "        else:\n",
    "            print(\"Eligible\")\n",
    "            out=\"Eligible\"\n",
    "        return out\n",
    "verification.ageeligible()   "
   ]
  },
  {
   "cell_type": "code",
   "execution_count": 3,
   "id": "e209622d-39e6-4cfc-9007-f946fc9124c9",
   "metadata": {},
   "outputs": [
    {
     "name": "stdin",
     "output_type": "stream",
     "text": [
      "Subject1= 98\n",
      "Subject2= 87\n",
      "Subject3= 95\n",
      "Subject4= 95\n",
      "Subject5= 93\n"
     ]
    },
    {
     "name": "stdout",
     "output_type": "stream",
     "text": [
      "Total: 468\n",
      "Percentage: 93.60000000000001\n"
     ]
    }
   ],
   "source": [
    "Sub1=int(input(\"Subject1=\"))\n",
    "Sub2=int(input(\"Subject2=\"))\n",
    "Sub3=int(input(\"Subject3=\"))\n",
    "Sub4=int(input(\"Subject4=\"))\n",
    "Sub5=int(input(\"Subject5=\"))\n",
    "class calculation():\n",
    "    def percentage():\n",
    "        Total=Sub1+Sub2+Sub3+Sub4+Sub5\n",
    "        print(\"Total:\",Total)\n",
    "        per=float(Total)*(100/500)\n",
    "        print (\"Percentage:\",per)\n",
    "calculation.percentage()"
   ]
  },
  {
   "cell_type": "code",
   "execution_count": 5,
   "id": "80c9e2cd-f61f-4f7b-b91f-cdbb6def1a09",
   "metadata": {},
   "outputs": [
    {
     "name": "stdin",
     "output_type": "stream",
     "text": [
      "Height: 32\n",
      "Breadth: 34\n"
     ]
    },
    {
     "name": "stdout",
     "output_type": "stream",
     "text": [
      "Area of Triangle: 544.0\n"
     ]
    },
    {
     "name": "stdin",
     "output_type": "stream",
     "text": [
      "Height1: 2\n",
      "Height2: 4\n",
      "Breadth: 4\n"
     ]
    },
    {
     "name": "stdout",
     "output_type": "stream",
     "text": [
      "Perimeter of Triangle: 10\n"
     ]
    }
   ],
   "source": [
    "class areameasurement():\n",
    "    def triangle():\n",
    "        height=int(input(\"Height:\"))\n",
    "        breadth=int(input(\"Breadth:\"))\n",
    "        Area=(height*breadth)/2\n",
    "        print(\"Area of Triangle:\",Area)\n",
    "        height1=int(input(\"Height1:\"))\n",
    "        height2=int(input(\"Height2:\"))\n",
    "        breadth1=int(input(\"Breadth:\"))\n",
    "        perimeter=height1+height2+breadth1\n",
    "        print(\"Perimeter of Triangle:\",perimeter)\n",
    "areameasurement.triangle()"
   ]
  },
  {
   "cell_type": "code",
   "execution_count": null,
   "id": "79f949a9-de12-4ee6-9fe4-6aee5c604c55",
   "metadata": {},
   "outputs": [],
   "source": []
  }
 ],
 "metadata": {
  "kernelspec": {
   "display_name": "Python 3 (ipykernel)",
   "language": "python",
   "name": "python3"
  },
  "language_info": {
   "codemirror_mode": {
    "name": "ipython",
    "version": 3
   },
   "file_extension": ".py",
   "mimetype": "text/x-python",
   "name": "python",
   "nbconvert_exporter": "python",
   "pygments_lexer": "ipython3",
   "version": "3.12.7"
  }
 },
 "nbformat": 4,
 "nbformat_minor": 5
}
