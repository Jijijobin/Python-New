{
 "cells": [
  {
   "cell_type": "code",
   "execution_count": 61,
   "id": "5f7d883f-4173-41dc-929d-c9170acb6b67",
   "metadata": {},
   "outputs": [
    {
     "name": "stdout",
     "output_type": "stream",
     "text": [
      "[ Sub-field in AI are: ]\n",
      "[ Machine Learning ]\n",
      "[ Neutral Networks ]\n",
      "[ Vision ]\n",
      "[ Robotics ]\n",
      "[ Speech Processing ]\n",
      "[ Natural Language Processing ]\n"
     ]
    }
   ],
   "source": [
    "Name=[\"Sub-field in AI are:\",\"Machine Learning\",\"Neutral Networks\",\"Vision\",\"Robotics\",\"Speech Processing\",\"Natural Language Processing\"]\n",
    "def subfields():\n",
    "    for data in Name:\n",
    "        print(\"[\",data,\"]\")\n",
    "subfieldsINAI=subfields()\n",
    "\n"
   ]
  },
  {
   "cell_type": "code",
   "execution_count": 55,
   "id": "9f412654-8f90-444c-8f07-ae922bc943c8",
   "metadata": {},
   "outputs": [
    {
     "name": "stdin",
     "output_type": "stream",
     "text": [
      "Enter a number: 52425\n"
     ]
    },
    {
     "name": "stdout",
     "output_type": "stream",
     "text": [
      "52425 is odd number\n"
     ]
    },
    {
     "data": {
      "text/plain": [
       "'Odd number'"
      ]
     },
     "execution_count": 55,
     "metadata": {},
     "output_type": "execute_result"
    }
   ],
   "source": [
    "num=int(input(\"Enter a number:\"))\n",
    "def oddeven():\n",
    "    if(num%2==0):\n",
    "        print(num,\"is even number\")\n",
    "        out=\"Even number\"\n",
    "    else:\n",
    "        print(num,\"is odd number\")\n",
    "        out=\"Odd number\"\n",
    "    return out\n",
    "oddeven()"
   ]
  },
  {
   "cell_type": "code",
   "execution_count": 85,
   "id": "f119dfc3-61a4-47d0-8b7e-87fc86947d1e",
   "metadata": {},
   "outputs": [
    {
     "name": "stdin",
     "output_type": "stream",
     "text": [
      "Your Gender: Male\n",
      "Your Age: 20\n"
     ]
    },
    {
     "name": "stdout",
     "output_type": "stream",
     "text": [
      "Not Eligible\n"
     ]
    },
    {
     "data": {
      "text/plain": [
       "'Not Elligible'"
      ]
     },
     "execution_count": 85,
     "metadata": {},
     "output_type": "execute_result"
    }
   ],
   "source": [
    "gender=input(\"Your Gender:\")\n",
    "age=int(input(\"Your Age:\"))\n",
    "def ageeligible():\n",
    "    if(age<=20):\n",
    "        print(\"Not Eligible\")\n",
    "        out=\"Not Elligible\"\n",
    "    else:\n",
    "        print(\"Eligible\")\n",
    "        out=\"Eligible\"\n",
    "    return out\n",
    "ageeligible()\n"
   ]
  },
  {
   "cell_type": "code",
   "execution_count": 99,
   "id": "ef3618e2-eeae-4325-9a95-d72fa35a9ec1",
   "metadata": {},
   "outputs": [
    {
     "name": "stdin",
     "output_type": "stream",
     "text": [
      "Subject1= 98\n",
      "Subject2= 87\n",
      "Subject3= 95\n",
      "Subject4= 95\n",
      "Subject5= 93\n"
     ]
    },
    {
     "name": "stdout",
     "output_type": "stream",
     "text": [
      "Total: 468\n",
      "Percentage: 93.60000000000001\n"
     ]
    }
   ],
   "source": [
    "Sub1=int(input(\"Subject1=\"))\n",
    "Sub2=int(input(\"Subject2=\"))\n",
    "Sub3=int(input(\"Subject3=\"))\n",
    "Sub4=int(input(\"Subject4=\"))\n",
    "Sub5=int(input(\"Subject5=\"))\n",
    "def percentage():\n",
    "    Total=Sub1+Sub2+Sub3+Sub4+Sub5\n",
    "    print(\"Total:\",Total)\n",
    "    per=float(Total)*(100/500)\n",
    "    print (\"Percentage:\",per)\n",
    "percentage()"
   ]
  },
  {
   "cell_type": "code",
   "execution_count": null,
   "id": "ae048776-a83e-4331-8a96-cab4c7ed3880",
   "metadata": {},
   "outputs": [],
   "source": [
    "def triangle():\n",
    "    height=int(input(\"Height:\"))\n",
    "    breadth=int(input(\"Breadth:\"))\n",
    "    Area=(height*breadth)/2\n",
    "    print(\"Area of Triangle:\",Area)\n",
    "    height1=int(input(\"Height:\"))\n",
    "    height2=int(input(\"Height:\"))\n",
    "    breadth1=int(input(\"Breadth:\"))\n",
    "    perimeter=height1+height2+breadth1\n",
    "    print(\"Perimeter of Triangle:\",perimeter)\n",
    "triangle()"
   ]
  },
  {
   "cell_type": "code",
   "execution_count": null,
   "id": "882edf3c-edd2-43e9-bb31-55ac431edd23",
   "metadata": {},
   "outputs": [],
   "source": []
  }
 ],
 "metadata": {
  "kernelspec": {
   "display_name": "Python 3 (ipykernel)",
   "language": "python",
   "name": "python3"
  },
  "language_info": {
   "codemirror_mode": {
    "name": "ipython",
    "version": 3
   },
   "file_extension": ".py",
   "mimetype": "text/x-python",
   "name": "python",
   "nbconvert_exporter": "python",
   "pygments_lexer": "ipython3",
   "version": "3.12.7"
  }
 },
 "nbformat": 4,
 "nbformat_minor": 5
}
