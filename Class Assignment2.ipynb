{
 "cells": [
  {
   "cell_type": "code",
   "execution_count": 98,
   "id": "cb7b09de-82c2-45c9-b24e-a2c6486442ba",
   "metadata": {},
   "outputs": [],
   "source": [
    "from Multiplefunction import Variousfield"
   ]
  },
  {
   "cell_type": "code",
   "execution_count": 102,
   "id": "70abf4f4-612d-4d08-bfaa-db909d97ea56",
   "metadata": {},
   "outputs": [
    {
     "name": "stdout",
     "output_type": "stream",
     "text": [
      "Sub-field in AI are:\n",
      "Machine Learning\n",
      "Neutral Networks\n",
      "Vision\n",
      "Robotics\n",
      "Speech Processing\n",
      "Natural Language Processing\n"
     ]
    }
   ],
   "source": [
    "Variousfield.subfields()"
   ]
  },
  {
   "cell_type": "code",
   "execution_count": 104,
   "id": "9426b57e-81f4-4790-adfe-bfbf81ac4e6e",
   "metadata": {},
   "outputs": [
    {
     "ename": "AttributeError",
     "evalue": "type object 'Variousfield' has no attribute 'oddeven'",
     "output_type": "error",
     "traceback": [
      "\u001b[1;31m---------------------------------------------------------------------------\u001b[0m",
      "\u001b[1;31mAttributeError\u001b[0m                            Traceback (most recent call last)",
      "Cell \u001b[1;32mIn[104], line 1\u001b[0m\n\u001b[1;32m----> 1\u001b[0m Variousfield\u001b[38;5;241m.\u001b[39moddeven()\n",
      "\u001b[1;31mAttributeError\u001b[0m: type object 'Variousfield' has no attribute 'oddeven'"
     ]
    }
   ],
   "source": [
    "Variousfield.oddeven()"
   ]
  },
  {
   "cell_type": "code",
   "execution_count": null,
   "id": "c1917d43-a49e-4ed4-85b2-17cf1a64dc38",
   "metadata": {},
   "outputs": [],
   "source": []
  },
  {
   "cell_type": "code",
   "execution_count": null,
   "id": "55bfcece-fd0f-4027-a671-41ffc1f262d6",
   "metadata": {},
   "outputs": [],
   "source": []
  }
 ],
 "metadata": {
  "kernelspec": {
   "display_name": "Python 3 (ipykernel)",
   "language": "python",
   "name": "python3"
  },
  "language_info": {
   "codemirror_mode": {
    "name": "ipython",
    "version": 3
   },
   "file_extension": ".py",
   "mimetype": "text/x-python",
   "name": "python",
   "nbconvert_exporter": "python",
   "pygments_lexer": "ipython3",
   "version": "3.12.7"
  }
 },
 "nbformat": 4,
 "nbformat_minor": 5
}
