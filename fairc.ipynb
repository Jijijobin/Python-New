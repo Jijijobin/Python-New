{
 "cells": [
  {
   "cell_type": "code",
   "execution_count": 43,
   "id": "20579dbf-4f09-4b68-bcbf-1bc146715dcb",
   "metadata": {},
   "outputs": [],
   "source": [
    "from Multiplefunction import Variousfield"
   ]
  },
  {
   "cell_type": "code",
   "execution_count": 45,
   "id": "e8d283ec-92a1-4a76-b3fa-37e832db18e6",
   "metadata": {},
   "outputs": [
    {
     "name": "stdout",
     "output_type": "stream",
     "text": [
      "Sub-field in AI are:\n",
      "Machine Learning\n",
      "Neutral Networks\n",
      "Vision\n",
      "Robotics\n",
      "Speech Processing\n",
      "Natural Language Processing\n"
     ]
    }
   ],
   "source": [
    "Variousfield.subfields()"
   ]
  },
  {
   "cell_type": "code",
   "execution_count": 47,
   "id": "69f2a739-9777-4859-aa75-5fbb8d079d79",
   "metadata": {},
   "outputs": [
    {
     "name": "stdin",
     "output_type": "stream",
     "text": [
      "Enter a number: 25\n"
     ]
    },
    {
     "name": "stdout",
     "output_type": "stream",
     "text": [
      "25 is odd number\n"
     ]
    }
   ],
   "source": [
    "Variousfield.oddeven()"
   ]
  },
  {
   "cell_type": "code",
   "execution_count": 55,
   "id": "c62d0cc1-f8d2-48d7-81ab-7571bbffe86f",
   "metadata": {},
   "outputs": [
    {
     "name": "stdin",
     "output_type": "stream",
     "text": [
      "Your Gender: male\n",
      "Your Age: 25\n"
     ]
    },
    {
     "name": "stdout",
     "output_type": "stream",
     "text": [
      "Eligible\n"
     ]
    },
    {
     "data": {
      "text/plain": [
       "'Eligible'"
      ]
     },
     "execution_count": 55,
     "metadata": {},
     "output_type": "execute_result"
    }
   ],
   "source": [
    "Variousfield.ageeligible()"
   ]
  },
  {
   "cell_type": "code",
   "execution_count": 57,
   "id": "0dbe1d4e-b713-40e3-89fd-abec24ca962c",
   "metadata": {},
   "outputs": [
    {
     "name": "stdin",
     "output_type": "stream",
     "text": [
      "Height: 4\n",
      "Breadth: 5\n"
     ]
    },
    {
     "name": "stdout",
     "output_type": "stream",
     "text": [
      "Area of Triangle: 10.0\n"
     ]
    },
    {
     "name": "stdin",
     "output_type": "stream",
     "text": [
      "Height1: 4\n",
      "Height2: 2\n",
      "Breadth: 2\n"
     ]
    },
    {
     "name": "stdout",
     "output_type": "stream",
     "text": [
      "Perimeter of Triangle: 8\n"
     ]
    }
   ],
   "source": [
    "Variousfield.triangle()"
   ]
  },
  {
   "cell_type": "code",
   "execution_count": 59,
   "id": "d3eabe38-77b9-4142-8f96-f1cac3c68962",
   "metadata": {},
   "outputs": [
    {
     "name": "stdin",
     "output_type": "stream",
     "text": [
      "Subject1= 98\n",
      "Subject2= 87\n",
      "Subject3= 93\n",
      "Subject4= 89\n",
      "Subject5= 98\n"
     ]
    },
    {
     "name": "stdout",
     "output_type": "stream",
     "text": [
      "Total: 465\n",
      "Percentage: 93.0\n"
     ]
    }
   ],
   "source": [
    "Variousfield.percentage()"
   ]
  },
  {
   "cell_type": "code",
   "execution_count": null,
   "id": "fca63eab-5307-4638-89ca-dd6e05325d3d",
   "metadata": {},
   "outputs": [],
   "source": []
  }
 ],
 "metadata": {
  "kernelspec": {
   "display_name": "Python 3 (ipykernel)",
   "language": "python",
   "name": "python3"
  },
  "language_info": {
   "codemirror_mode": {
    "name": "ipython",
    "version": 3
   },
   "file_extension": ".py",
   "mimetype": "text/x-python",
   "name": "python",
   "nbconvert_exporter": "python",
   "pygments_lexer": "ipython3",
   "version": "3.12.7"
  }
 },
 "nbformat": 4,
 "nbformat_minor": 5
}
