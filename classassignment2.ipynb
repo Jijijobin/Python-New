{
 "cells": [
  {
   "cell_type": "code",
   "execution_count": 37,
   "id": "bc7096be-2cb8-467c-82d2-05b8ba1b073d",
   "metadata": {},
   "outputs": [],
   "source": [
    "Name=[\"Sub-field in AI are:\",\"Machine Learning\",\"Neutral Networks\",\"Vision\",\"Robotics\",\"Speech Processing\",\"Natural Language Processing\"]\n",
    "class Variousfield():\n",
    "    def subfields():\n",
    "       for data in Name:\n",
    "          print(data)\n",
    "  \n",
    "    def oddeven():\n",
    "        num=int(input(\"Enter a number:\"))\n",
    "        if(num%2==0):\n",
    "            print(num,\"is even number\")\n",
    "            out=\"Even number\"\n",
    "        else:\n",
    "            print(num,\"is odd number\")\n",
    "            out=\"Odd number\"\n",
    "\n",
    "    def ageeligible():\n",
    "        gender=input(\"Your Gender:\")\n",
    "        age=int(input(\"Your Age:\"))\n",
    "        if(age<=20):\n",
    "            print(\"Not Eligible\")\n",
    "            out=\"Not Elligible\"\n",
    "        else:\n",
    "            print(\"Eligible\")\n",
    "            out=\"Eligible\"\n",
    "        return out\n",
    "\n",
    "    def percentage():\n",
    "        Sub1=int(input(\"Subject1=\"))\n",
    "        Sub2=int(input(\"Subject2=\"))\n",
    "        Sub3=int(input(\"Subject3=\"))\n",
    "        Sub4=int(input(\"Subject4=\"))\n",
    "        Sub5=int(input(\"Subject5=\"))\n",
    "        Total=Sub1+Sub2+Sub3+Sub4+Sub5\n",
    "        print(\"Total:\",Total)\n",
    "        per=float(Total)*(100/500)\n",
    "        print (\"Percentage:\",per)\n",
    "\n",
    "    def triangle():\n",
    "        height=int(input(\"Height:\"))\n",
    "        breadth=int(input(\"Breadth:\"))\n",
    "        Area=(height*breadth)/2\n",
    "        print(\"Area of Triangle:\",Area)\n",
    "        height1=int(input(\"Height1:\"))\n",
    "        height2=int(input(\"Height2:\"))\n",
    "        breadth1=int(input(\"Breadth:\"))\n",
    "        perimeter=height1+height2+breadth1\n",
    "        print(\"Perimeter of Triangle:\",perimeter)\n",
    " "
   ]
  },
  {
   "cell_type": "code",
   "execution_count": 17,
   "id": "e343f033-8ae3-4d3e-8789-7b08912dbe08",
   "metadata": {},
   "outputs": [
    {
     "name": "stdout",
     "output_type": "stream",
     "text": [
      "Sub-field in AI are:\n",
      "Machine Learning\n",
      "Neutral Networks\n",
      "Vision\n",
      "Robotics\n",
      "Speech Processing\n",
      "Natural Language Processing\n"
     ]
    }
   ],
   "source": [
    "Variousfield.subfields()"
   ]
  },
  {
   "cell_type": "code",
   "execution_count": 25,
   "id": "3cb47668-7556-452f-a4a3-15ec223bfbe8",
   "metadata": {},
   "outputs": [
    {
     "name": "stdin",
     "output_type": "stream",
     "text": [
      "Enter a number: 25\n"
     ]
    },
    {
     "name": "stdout",
     "output_type": "stream",
     "text": [
      "25 is odd number\n"
     ]
    }
   ],
   "source": [
    "Variousfield.oddeven()"
   ]
  },
  {
   "cell_type": "code",
   "execution_count": 31,
   "id": "49222a7b-9ea3-4bc9-bc0c-bb4182d6db8d",
   "metadata": {},
   "outputs": [
    {
     "name": "stdin",
     "output_type": "stream",
     "text": [
      "Your Gender: male\n",
      "Your Age: 54\n"
     ]
    },
    {
     "name": "stdout",
     "output_type": "stream",
     "text": [
      "Eligible\n"
     ]
    },
    {
     "data": {
      "text/plain": [
       "'Eligible'"
      ]
     },
     "execution_count": 31,
     "metadata": {},
     "output_type": "execute_result"
    }
   ],
   "source": [
    "Variousfield.ageeligible()"
   ]
  },
  {
   "cell_type": "code",
   "execution_count": 35,
   "id": "7e11ac8b-fa16-461b-8a14-1a552cb13acd",
   "metadata": {},
   "outputs": [
    {
     "name": "stdin",
     "output_type": "stream",
     "text": [
      "Subject1= 94\n",
      "Subject2= 98\n",
      "Subject3= 98\n",
      "Subject4= 87\n",
      "Subject5= 93\n"
     ]
    },
    {
     "name": "stdout",
     "output_type": "stream",
     "text": [
      "Total: 470\n",
      "Percentage: 94.0\n"
     ]
    }
   ],
   "source": [
    "Variousfield.percentage()"
   ]
  },
  {
   "cell_type": "code",
   "execution_count": 39,
   "id": "126c9d1a-1e8d-4b7d-914b-733570e7202b",
   "metadata": {},
   "outputs": [
    {
     "name": "stdin",
     "output_type": "stream",
     "text": [
      "Height: 87\n",
      "Breadth: 77\n"
     ]
    },
    {
     "name": "stdout",
     "output_type": "stream",
     "text": [
      "Area of Triangle: 3349.5\n"
     ]
    },
    {
     "name": "stdin",
     "output_type": "stream",
     "text": [
      "Height1: 4\n",
      "Height2: 2\n",
      "Breadth: 2\n"
     ]
    },
    {
     "name": "stdout",
     "output_type": "stream",
     "text": [
      "Perimeter of Triangle: 8\n"
     ]
    }
   ],
   "source": [
    "Variousfield.triangle()"
   ]
  },
  {
   "cell_type": "code",
   "execution_count": null,
   "id": "f11eb09d-f3d3-4387-854e-d3c4e0139a46",
   "metadata": {},
   "outputs": [],
   "source": []
  }
 ],
 "metadata": {
  "kernelspec": {
   "display_name": "Python 3 (ipykernel)",
   "language": "python",
   "name": "python3"
  },
  "language_info": {
   "codemirror_mode": {
    "name": "ipython",
    "version": 3
   },
   "file_extension": ".py",
   "mimetype": "text/x-python",
   "name": "python",
   "nbconvert_exporter": "python",
   "pygments_lexer": "ipython3",
   "version": "3.12.7"
  }
 },
 "nbformat": 4,
 "nbformat_minor": 5
}
