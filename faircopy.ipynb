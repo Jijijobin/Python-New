{
 "cells": [
  {
   "cell_type": "code",
   "execution_count": null,
   "id": "667f3f5b-c9d0-4500-bdec-84223ce0aee2",
   "metadata": {},
   "outputs": [],
   "source": [
    "from Multiple import "
   ]
  }
 ],
 "metadata": {
  "kernelspec": {
   "display_name": "",
   "name": ""
  },
  "language_info": {
   "name": ""
  }
 },
 "nbformat": 4,
 "nbformat_minor": 5
}
