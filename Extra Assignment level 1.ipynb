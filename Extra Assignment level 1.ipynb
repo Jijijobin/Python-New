{
 "cells": [
  {
   "cell_type": "code",
   "execution_count": 1,
   "id": "3f3ca341-4a0b-45dc-91c0-e0373e72020c",
   "metadata": {},
   "outputs": [
    {
     "name": "stdout",
     "output_type": "stream",
     "text": [
      "HOPE AI\n"
     ]
    }
   ],
   "source": [
    "print(\"HOPE AI\")"
   ]
  },
  {
   "cell_type": "code",
   "execution_count": 7,
   "id": "253bfe8a-4f8c-40f7-8708-699443f0af43",
   "metadata": {},
   "outputs": [
    {
     "name": "stdin",
     "output_type": "stream",
     "text": [
      "Enter your institute name/: HOPE AI\n"
     ]
    }
   ],
   "source": [
    "InsName=input(\"Enter your institute name/:\")"
   ]
  },
  {
   "cell_type": "code",
   "execution_count": 9,
   "id": "7e455181-c322-43e9-bc0b-3d59de521e2c",
   "metadata": {},
   "outputs": [
    {
     "name": "stdin",
     "output_type": "stream",
     "text": [
      "Enter your name: Raj\n",
      "Enter your age: 15\n",
      "Enter your school name: GURU School\n",
      "Enter your degree: B.E CSE\n"
     ]
    }
   ],
   "source": [
    "Name=input(\"Enter your name:\")\n",
    "Age=input(\"Enter your age:\")\n",
    "SchName=input(\"Enter your school name:\")\n",
    "Degree=input(\"Enter your degree:\")"
   ]
  },
  {
   "cell_type": "code",
   "execution_count": 3,
   "id": "f0506618-4a1e-4702-a0ef-e8316bebf957",
   "metadata": {},
   "outputs": [
    {
     "name": "stdin",
     "output_type": "stream",
     "text": [
      "a 43\n",
      "b 34\n"
     ]
    },
    {
     "name": "stdout",
     "output_type": "stream",
     "text": [
      "add= 77\n"
     ]
    }
   ],
   "source": [
    "a=int(input(\"a\"))\n",
    "b=int(input(\"b\"))\n",
    "print(\"add=\",a+b)"
   ]
  },
  {
   "cell_type": "code",
   "execution_count": 7,
   "id": "6d88da22-1b1d-43d1-8212-78c78bbfeb26",
   "metadata": {},
   "outputs": [
    {
     "name": "stdin",
     "output_type": "stream",
     "text": [
      "a 43\n",
      "b 34\n"
     ]
    },
    {
     "name": "stdout",
     "output_type": "stream",
     "text": [
      "Sub= 9\n"
     ]
    }
   ],
   "source": [
    "a=int(input(\"a\"))\n",
    "b=int(input(\"b\"))\n",
    "print(\"Sub=\",a-b)"
   ]
  },
  {
   "cell_type": "code",
   "execution_count": 13,
   "id": "da7dae61-1070-4fa4-99c2-5b58b4799691",
   "metadata": {},
   "outputs": [
    {
     "name": "stdin",
     "output_type": "stream",
     "text": [
      "a 63\n",
      "b 97\n"
     ]
    },
    {
     "name": "stdout",
     "output_type": "stream",
     "text": [
      "Mul= 6111\n"
     ]
    }
   ],
   "source": [
    "a=int(input(\"a\"))\n",
    "b=int(input(\"b\"))\n",
    "print(\"Mul=\",a*b)"
   ]
  },
  {
   "cell_type": "code",
   "execution_count": 17,
   "id": "0e753ec5-683d-487b-a0c0-5795a4cb1c8e",
   "metadata": {},
   "outputs": [
    {
     "name": "stdin",
     "output_type": "stream",
     "text": [
      "a 76\n",
      "b 31\n"
     ]
    },
    {
     "name": "stdout",
     "output_type": "stream",
     "text": [
      "Float Div= 2.4516129032258065\n"
     ]
    }
   ],
   "source": [
    "a=int(input(\"a\"))\n",
    "b=int(input(\"b\"))\n",
    "print(\"Float Div=\",a/b)"
   ]
  },
  {
   "cell_type": "code",
   "execution_count": 19,
   "id": "e148b1e9-f745-401d-bd49-437d02c37ffd",
   "metadata": {},
   "outputs": [
    {
     "name": "stdin",
     "output_type": "stream",
     "text": [
      "a 76\n",
      "b 31\n"
     ]
    },
    {
     "name": "stdout",
     "output_type": "stream",
     "text": [
      "Float Div= 2\n"
     ]
    }
   ],
   "source": [
    "a=int(input(\"a\"))\n",
    "b=int(input(\"b\"))\n",
    "Round=round(a/b)\n",
    "print(\"Float Div=\",Round)"
   ]
  },
  {
   "cell_type": "code",
   "execution_count": 21,
   "id": "bf3fe07e-9ba7-4d12-94ac-d000793eef63",
   "metadata": {},
   "outputs": [
    {
     "name": "stdin",
     "output_type": "stream",
     "text": [
      "a 76\n",
      "b 31\n"
     ]
    },
    {
     "name": "stdout",
     "output_type": "stream",
     "text": [
      "Modula= 14\n"
     ]
    }
   ],
   "source": [
    "a=int(input(\"a\"))\n",
    "b=int(input(\"b\"))\n",
    "print(\"Modula=\",a%b)"
   ]
  },
  {
   "cell_type": "code",
   "execution_count": 23,
   "id": "8a521f62-098a-4209-91e8-5b074264db76",
   "metadata": {},
   "outputs": [
    {
     "name": "stdin",
     "output_type": "stream",
     "text": [
      "a 4\n",
      "b 4\n"
     ]
    },
    {
     "name": "stdout",
     "output_type": "stream",
     "text": [
      "Power= 256\n"
     ]
    }
   ],
   "source": [
    "a=int(input(\"a\"))\n",
    "b=int(input(\"b\"))\n",
    "Power=pow(a,b)\n",
    "print(\"Power=\",Power)"
   ]
  },
  {
   "cell_type": "code",
   "execution_count": null,
   "id": "61bf53a2-b3b4-49f9-91c3-3b4f0b0cc29e",
   "metadata": {},
   "outputs": [],
   "source": []
  }
 ],
 "metadata": {
  "kernelspec": {
   "display_name": "Python 3 (ipykernel)",
   "language": "python",
   "name": "python3"
  },
  "language_info": {
   "codemirror_mode": {
    "name": "ipython",
    "version": 3
   },
   "file_extension": ".py",
   "mimetype": "text/x-python",
   "name": "python",
   "nbconvert_exporter": "python",
   "pygments_lexer": "ipython3",
   "version": "3.12.7"
  }
 },
 "nbformat": 4,
 "nbformat_minor": 5
}
